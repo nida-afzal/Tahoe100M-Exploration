{
  "nbformat": 4,
  "nbformat_minor": 0,
  "metadata": {
    "colab": {
      "provenance": []
    },
    "kernelspec": {
      "name": "python3",
      "display_name": "Python 3"
    },
    "language_info": {
      "name": "python"
    }
  },
  "cells": [
    {
      "cell_type": "code",
      "source": [
        "!pip install datasets\n"
      ],
      "metadata": {
        "id": "zyuXq4JvqBu9"
      },
      "execution_count": null,
      "outputs": []
    },
    {
      "cell_type": "code",
      "source": [
        "from datasets import load_dataset\n",
        "\n",
        "# Load the dataset in streaming mode\n",
        "dataset = load_dataset(\"vevotx/Tahoe-100M\", split=\"train\", streaming=True)\n",
        "\n",
        "# Convert the iterable dataset into an iterator\n",
        "dataset_iter = iter(dataset)\n",
        "\n",
        "# Retrieve the first 1000 records\n",
        "subset_size = 1000\n",
        "subset = [next(dataset_iter) for _ in range(subset_size)]\n"
      ],
      "metadata": {
        "id": "EkjUOJ7xqN-V"
      },
      "execution_count": null,
      "outputs": []
    },
    {
      "cell_type": "code",
      "source": [
        "import pandas as pd\n",
        "\n",
        "# Create a DataFrame from the subset\n",
        "df_subset = pd.DataFrame(subset)\n",
        "\n",
        "# Display basic information\n",
        "print(df_subset.info())\n",
        "print(df_subset.head())\n"
      ],
      "metadata": {
        "id": "IT4m4QIdqEIr"
      },
      "execution_count": null,
      "outputs": []
    },
    {
      "cell_type": "code",
      "source": [
        "# Load 100 samples and collect unique gene IDs\n",
        "gene_set = set()\n",
        "for _ in range(100):\n",
        "    row = next(dataset_iter)\n",
        "    gene_set.update(row['genes'])\n",
        "\n",
        "# Convert to list and show a few examples\n",
        "gene_list = list(gene_set)\n",
        "print(\"Sample gene IDs:\", gene_list[:10])\n"
      ],
      "metadata": {
        "id": "NyDEhfdoq2IN"
      },
      "execution_count": null,
      "outputs": []
    },
    {
      "cell_type": "code",
      "source": [
        "# Load gene metadata table using streaming\n",
        "gene_meta = load_dataset(\"vevotx/Tahoe-100M\", name=\"gene_metadata\", split=\"train\", streaming=True)\n",
        "gene_meta_iter = iter(gene_meta)\n",
        "\n",
        "# Peek at the first item to see what keys are available\n",
        "first_item = next(gene_meta_iter)\n",
        "print(\"Available keys:\", first_item.keys())\n",
        "\n",
        "# Reset the iterator\n",
        "gene_meta_iter = iter(gene_meta)\n",
        "\n",
        "# Based on the available keys, use the correct key name for gene ID\n",
        "# (assuming there is some ID field with a different name)\n",
        "gene_id_map = {}\n",
        "id_field = 'id'  # Replace with the actual ID field found in the keys\n",
        "\n",
        "for _ in range(100):\n",
        "    item = next(gene_meta_iter)\n",
        "    gene_id_map[item[id_field]] = item  # Maps numeric ID to metadata\n",
        "\n",
        "# Show a few mapped gene names\n",
        "for gid in list(gene_id_map.keys())[:4]:  # Just show the first 4 we collected\n",
        "    gene_info = gene_id_map.get(gid, {})\n",
        "    print(f\"Gene ID {gid}: {gene_info}\")"
      ],
      "metadata": {
        "id": "U0MFW4k7rHh9"
      },
      "execution_count": null,
      "outputs": []
    },
    {
      "cell_type": "code",
      "source": [
        "# Load gene metadata table using streaming\n",
        "gene_meta = load_dataset(\"vevotx/Tahoe-100M\", name=\"gene_metadata\", split=\"train\", streaming=True)\n",
        "gene_meta_iter = iter(gene_meta)\n",
        "\n",
        "# Now we know the available keys: 'gene_symbol', 'ensembl_id', 'token_id'\n",
        "# Let's use 'ensembl_id' as our mapping key\n",
        "gene_id_map = {}\n",
        "\n",
        "for _ in range(100):\n",
        "    item = next(gene_meta_iter)\n",
        "    gene_id_map[item['ensembl_id']] = item  # Maps ensembl_id to metadata\n",
        "\n",
        "# Show a few mapped genes\n",
        "# We need to get the actual keys from our map since we don't know the values in advance\n",
        "keys_list = list(gene_id_map.keys())\n",
        "for i, ensembl_id in enumerate(keys_list[:4]):  # Show first 4 entries\n",
        "    gene_info = gene_id_map[ensembl_id]\n",
        "    print(f\"Entry {i+1}:\")\n",
        "    print(f\"  Ensembl ID: {ensembl_id}\")\n",
        "    print(f\"  Gene Symbol: {gene_info['gene_symbol']}\")\n",
        "    print(f\"  Token ID: {gene_info['token_id']}\")\n",
        "    print()"
      ],
      "metadata": {
        "id": "WaAZhdkBsnhr"
      },
      "execution_count": null,
      "outputs": []
    },
    {
      "cell_type": "code",
      "source": [
        "# Load gene metadata table using streaming\n",
        "gene_meta = load_dataset(\"vevotx/Tahoe-100M\", name=\"gene_metadata\", split=\"train\", streaming=True)\n",
        "gene_meta_iter = iter(gene_meta)\n",
        "\n",
        "# Now we know the available keys: 'gene_symbol', 'ensembl_id', 'token_id'\n",
        "# Let's use 'ensembl_id' as our mapping key\n",
        "gene_id_map = {}\n",
        "\n",
        "for _ in range(100):\n",
        "    item = next(gene_meta_iter)\n",
        "    gene_id_map[item['ensembl_id']] = item  # Maps ensembl_id to metadata\n",
        "\n",
        "# Show a few mapped genes\n",
        "# We need to get the actual keys from our map since we don't know the values in advance\n",
        "keys_list = list(gene_id_map.keys())\n",
        "for i, ensembl_id in enumerate(keys_list[:4]):  # Show first 4 entries\n",
        "    gene_info = gene_id_map[ensembl_id]\n",
        "    print(f\"Entry {i+1}:\")\n",
        "    print(f\"  Ensembl ID: {ensembl_id}\")\n",
        "    print(f\"  Gene Symbol: {gene_info['gene_symbol']}\")\n",
        "    print(f\"  Token ID: {gene_info['token_id']}\")\n",
        "    print()"
      ],
      "metadata": {
        "id": "9PVvfd5jsrJw"
      },
      "execution_count": null,
      "outputs": []
    },
    {
      "cell_type": "code",
      "source": [
        "import matplotlib.pyplot as plt\n",
        "import numpy as np\n",
        "\n",
        "# Data from the gene entries\n",
        "ensembl_ids = ['ENSG00000000003', 'ENSG00000000005', 'ENSG00000000419', 'ENSG00000000457']\n",
        "gene_symbols = ['TSPAN6', 'TNMD', 'DPM1', 'SCYL3']\n",
        "token_ids = [3, 4, 5, 6]\n",
        "\n",
        "# Create figure and axes\n",
        "fig, ax = plt.subplots(figsize=(10, 6))\n",
        "\n",
        "# Create horizontal bar chart\n",
        "y_pos = np.arange(len(gene_symbols))\n",
        "ax.barh(y_pos, token_ids, align='center', alpha=0.7, color='skyblue')\n",
        "ax.set_yticks(y_pos)\n",
        "ax.set_yticklabels(gene_symbols)\n",
        "\n",
        "# Add Ensembl IDs as text beside the gene symbols\n",
        "for i, ensembl in enumerate(ensembl_ids):\n",
        "    ax.text(-0.5, i, ensembl, ha='right', va='center', fontsize=8, color='gray')\n",
        "\n",
        "# Add token ID values at the end of each bar\n",
        "for i, token in enumerate(token_ids):\n",
        "    ax.text(token + 0.1, i, str(token), ha='left', va='center')\n",
        "\n",
        "# Set labels and title\n",
        "ax.set_xlabel('Token ID')\n",
        "ax.set_title('Gene Token ID Visualization')\n",
        "\n",
        "# Adjust layout and display\n",
        "plt.tight_layout()\n",
        "plt.show()"
      ],
      "metadata": {
        "id": "JVJMuIY1tjT8"
      },
      "execution_count": null,
      "outputs": []
    },
    {
      "cell_type": "code",
      "source": [
        "import matplotlib.pyplot as plt\n",
        "\n",
        "# Replace with your gene of interest\n",
        "gene_of_interest = 'ENSG00000000419'  # DPM1\n",
        "\n",
        "# First, we need to find this gene's token_id to match it in the expression data\n",
        "# Assuming you've loaded the gene metadata and created a mapping\n",
        "gene_token_id = None\n",
        "for ensembl_id, info in gene_id_map.items():\n",
        "    if ensembl_id == gene_of_interest:\n",
        "        gene_token_id = str(info['token_id'])\n",
        "        gene_symbol = info['gene_symbol']\n",
        "        break\n",
        "\n",
        "if gene_token_id:\n",
        "    # Filter for entries that contain the gene token ID\n",
        "    gene_expressions = df_subset[df_subset['genes'].apply(lambda x: gene_token_id in x)]\n",
        "\n",
        "    # Extract expression values\n",
        "    expression_values = []\n",
        "    for idx, row in gene_expressions.iterrows():\n",
        "        try:\n",
        "            gene_idx = row['genes'].index(gene_token_id)\n",
        "            expression_values.append(row['expressions'][gene_idx])\n",
        "        except (ValueError, IndexError):\n",
        "            continue\n",
        "\n",
        "    # Plot the distribution\n",
        "    plt.figure(figsize=(10, 6))\n",
        "    plt.hist(expression_values, bins=30, color='skyblue', edgecolor='black')\n",
        "    plt.title(f'Expression Distribution of {gene_symbol} ({gene_of_interest})')\n",
        "    plt.xlabel('Expression Level')\n",
        "    plt.ylabel('Frequency')\n",
        "    plt.grid(axis='y', alpha=0.75)\n",
        "    plt.show()\n",
        "else:\n",
        "    print(f\"Gene {gene_of_interest} not found in metadata.\")"
      ],
      "metadata": {
        "id": "CoyI6OmYtnNO"
      },
      "execution_count": null,
      "outputs": []
    },
    {
      "cell_type": "code",
      "execution_count": null,
      "metadata": {
        "id": "Q81lF83wpf_b"
      },
      "outputs": [],
      "source": [
        "import matplotlib.pyplot as plt\n",
        "\n",
        "# Replace 'gene_of_interest' with the actual gene identifier\n",
        "gene_of_interest = '6'\n",
        "\n",
        "# Filter for non-zero expressions of the gene\n",
        "gene_expressions = df_subset[df_subset['genes'].apply(lambda x: gene_of_interest in x)]\n",
        "\n",
        "# Extract expression values\n",
        "expression_values = gene_expressions['expressions'].apply(lambda x: x[x.index(gene_of_interest)])\n",
        "\n",
        "# Plot the distribution\n",
        "plt.hist(expression_values, bins=30)\n",
        "plt.title(f'Expression Distribution of {gene_of_interest}')\n",
        "plt.xlabel('Expression Level')\n",
        "plt.ylabel('Frequency')\n",
        "plt.show()\n"
      ]
    }
  ]
}